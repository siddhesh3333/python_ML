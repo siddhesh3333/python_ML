{
 "cells": [
  {
   "cell_type": "markdown",
   "id": "cbc6ea00",
   "metadata": {},
   "source": [
    "# siddhesh dhande roll no:71"
   ]
  },
  {
   "cell_type": "markdown",
   "id": "52349d18",
   "metadata": {},
   "source": [
    "# House price uing linear regression-singleVariable\n"
   ]
  },
  {
   "cell_type": "code",
   "execution_count": null,
   "id": "9e1e1cc6",
   "metadata": {},
   "outputs": [],
   "source": [
    "import pandas as pd\n",
    "from sklearn.linear_model import LinearRegression\n",
    "import matplotlib.pyplot as plt\n"
   ]
  },
  {
   "cell_type": "markdown",
   "id": "091a8914",
   "metadata": {},
   "source": [
    "# load dataset"
   ]
  },
  {
   "cell_type": "code",
   "execution_count": null,
   "id": "5ee52e5b",
   "metadata": {},
   "outputs": [],
   "source": [
    "dataset = pd.read_csv('house dataset.csv')"
   ]
  },
  {
   "cell_type": "markdown",
   "id": "c2190425",
   "metadata": {},
   "source": [
    "# load Summarize"
   ]
  },
  {
   "cell_type": "code",
   "execution_count": null,
   "id": "9e10176f",
   "metadata": {},
   "outputs": [],
   "source": [
    "print(dataset.shape)\n",
    "print(dataset.head(5))"
   ]
  },
  {
   "cell_type": "code",
   "execution_count": null,
   "id": "76a5ed7d",
   "metadata": {},
   "outputs": [],
   "source": [
    "dataset.info()"
   ]
  },
  {
   "cell_type": "code",
   "execution_count": null,
   "id": "eb9efe26",
   "metadata": {},
   "outputs": [],
   "source": [
    "dataset.describe()"
   ]
  },
  {
   "cell_type": "markdown",
   "id": "0d9f03dc",
   "metadata": {},
   "source": [
    "# Visualize Dataset"
   ]
  },
  {
   "cell_type": "code",
   "execution_count": null,
   "id": "cc79065c",
   "metadata": {},
   "outputs": [],
   "source": [
    "plt.xlabel('Area')\n",
    "plt.ylabel('Price')\n",
    "plt.scatter(dataset.area,dataset.price,color='red',marker=\"*\")"
   ]
  },
  {
   "cell_type": "markdown",
   "id": "726fc9be",
   "metadata": {},
   "source": [
    "# segregate Dataset into Input X and Output Y"
   ]
  },
  {
   "cell_type": "code",
   "execution_count": null,
   "id": "e194bb26",
   "metadata": {},
   "outputs": [],
   "source": [
    "X = dataset.drop('price',axis='columns')\n",
    "X"
   ]
  },
  {
   "cell_type": "code",
   "execution_count": null,
   "id": "7d998a0e",
   "metadata": {},
   "outputs": [],
   "source": [
    "Y = dataset.price\n",
    "Y"
   ]
  },
  {
   "cell_type": "markdown",
   "id": "a3bdbae6",
   "metadata": {},
   "source": [
    "# Training Dataset into Input X & Output Y"
   ]
  },
  {
   "cell_type": "code",
   "execution_count": null,
   "id": "883e714d",
   "metadata": {},
   "outputs": [],
   "source": [
    "model = LinearRegression()\n",
    "model.fit(X,Y)"
   ]
  },
  {
   "cell_type": "markdown",
   "id": "77e4a783",
   "metadata": {},
   "source": [
    "# Predicated Price for Land sq.Feet of custom Values"
   ]
  },
  {
   "cell_type": "code",
   "execution_count": null,
   "id": "f8a31a7b",
   "metadata": {},
   "outputs": [],
   "source": [
    "x = int(input(\"Enter your house square feet \"))\n",
    "LandAreainSqFt=[[x]]\n",
    "PredictemodelResult = model.predict(LandAreainSqFt)\n",
    "print(PredictemodelResult)"
   ]
  },
  {
   "cell_type": "markdown",
   "id": "5baa0720",
   "metadata": {},
   "source": [
    "# checking our model is right  \n",
    "\n"
   ]
  },
  {
   "cell_type": "markdown",
   "id": "23549ffd",
   "metadata": {},
   "source": [
    "# Theory Calculation"
   ]
  },
  {
   "cell_type": "markdown",
   "id": "3f662ac0",
   "metadata": {},
   "source": [
    "# Y = m*X+b(m is coffecient and  b is intercept)"
   ]
  },
  {
   "cell_type": "code",
   "execution_count": null,
   "id": "85467cf3",
   "metadata": {},
   "outputs": [],
   "source": [
    "m=model.coef_\n",
    "print(m)"
   ]
  },
  {
   "cell_type": "code",
   "execution_count": null,
   "id": "8c214574",
   "metadata": {},
   "outputs": [],
   "source": [
    "b=model.intercept_\n",
    "print(b)"
   ]
  },
  {
   "cell_type": "code",
   "execution_count": null,
   "id": "57f077d3",
   "metadata": {},
   "outputs": [],
   "source": [
    "y= m*x+b\n",
    "print(\"The Price of  Square feet Land is:{1}\".format(x,y[0]))"
   ]
  },
  {
   "cell_type": "markdown",
   "id": "99d21ad2",
   "metadata": {},
   "source": [
    "# Part B-Exam marks predication"
   ]
  },
  {
   "cell_type": "code",
   "execution_count": null,
   "id": "27caf449",
   "metadata": {},
   "outputs": [],
   "source": [
    "import pandas as pd\n",
    "from sklearn.linear_model import LinearRegression\n"
   ]
  },
  {
   "cell_type": "code",
   "execution_count": null,
   "id": "373ee4a7",
   "metadata": {},
   "outputs": [],
   "source": [
    "dataset = pd.read_csv('exam data.csv')"
   ]
  },
  {
   "cell_type": "code",
   "execution_count": null,
   "id": "35f1f44f",
   "metadata": {},
   "outputs": [],
   "source": [
    "print(dataset.shape)\n",
    "print(dataset.head(5))"
   ]
  },
  {
   "cell_type": "code",
   "execution_count": null,
   "id": "b1f45583",
   "metadata": {},
   "outputs": [],
   "source": [
    "X = dataset.iloc[:,:-1].values\n",
    "print(X.shape)\n",
    "X"
   ]
  },
  {
   "cell_type": "code",
   "execution_count": null,
   "id": "fa3cf94d",
   "metadata": {},
   "outputs": [],
   "source": [
    "dataset.columns[dataset.isna().any()]"
   ]
  },
  {
   "cell_type": "code",
   "execution_count": null,
   "id": "ff780ce8",
   "metadata": {},
   "outputs": [],
   "source": [
    "dataset.hours = dataset.hours.fillna(dataset.hours.mean()) "
   ]
  },
  {
   "cell_type": "code",
   "execution_count": null,
   "id": "a963862a",
   "metadata": {},
   "outputs": [],
   "source": [
    "print(dataset.hours)"
   ]
  },
  {
   "cell_type": "code",
   "execution_count": null,
   "id": "6f8b69ed",
   "metadata": {},
   "outputs": [],
   "source": [
    "X = dataset.iloc[:,:-1].values\n",
    "print(X.shape)\n",
    "X"
   ]
  },
  {
   "cell_type": "code",
   "execution_count": null,
   "id": "770e91f3",
   "metadata": {},
   "outputs": [],
   "source": [
    "Y = dataset.iloc[:,-1].values\n",
    "Y"
   ]
  },
  {
   "cell_type": "code",
   "execution_count": null,
   "id": "d133fe5a",
   "metadata": {},
   "outputs": [],
   "source": [
    "model = LinearRegression()\n",
    "model.fit(X,Y)"
   ]
  },
  {
   "cell_type": "code",
   "execution_count": null,
   "id": "471673b4",
   "metadata": {},
   "outputs": [],
   "source": []
  },
  {
   "cell_type": "code",
   "execution_count": null,
   "id": "e9ecc8eb",
   "metadata": {},
   "outputs": [],
   "source": [
    "a=[[1,75,1]]\n",
    "PredictemodelResult = model.predict(a)\n",
    "print(PredictemodelResult)"
   ]
  },
  {
   "cell_type": "code",
   "execution_count": null,
   "id": "575fd411",
   "metadata": {},
   "outputs": [],
   "source": []
  }
 ],
 "metadata": {
  "kernelspec": {
   "display_name": "Python 3 (ipykernel)",
   "language": "python",
   "name": "python3"
  },
  "language_info": {
   "codemirror_mode": {
    "name": "ipython",
    "version": 3
   },
   "file_extension": ".py",
   "mimetype": "text/x-python",
   "name": "python",
   "nbconvert_exporter": "python",
   "pygments_lexer": "ipython3",
   "version": "3.9.12"
  }
 },
 "nbformat": 4,
 "nbformat_minor": 5
}
